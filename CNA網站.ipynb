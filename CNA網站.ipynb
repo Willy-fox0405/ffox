{
  "nbformat": 4,
  "nbformat_minor": 0,
  "metadata": {
    "colab": {
      "provenance": []
    },
    "kernelspec": {
      "name": "python3",
      "display_name": "Python 3"
    },
    "language_info": {
      "name": "python"
    }
  },
  "cells": [
    {
      "cell_type": "code",
      "source": [
        "from urllib.request import Request\n",
        "from urllib.request import urlopen\n",
        "from bs4 import BeautifulSoup\n",
        "\n",
        "req = Request('https://www.cna.com.tw/news/asoc/202503200249.aspx', headers={'User-Agent': \"Magic Browser\"})\n",
        "html = urlopen(req)\n",
        "bs = BeautifulSoup(html, 'html.parser')\n",
        "\n",
        "for link in bs.find_all('a'):\n",
        "    if 'href' in link.attrs:\n",
        "        href_value = link.attrs['href']\n",
        "        if href_value.startswith('https'):\n",
        "            print(href_value)"
      ],
      "metadata": {
        "colab": {
          "base_uri": "https://localhost:8080/"
        },
        "id": "ldKjrAObsvvh",
        "outputId": "4a7ead3f-95df-4529-d517-e8449eca31ca"
      },
      "execution_count": 2,
      "outputs": [
        {
          "output_type": "stream",
          "name": "stdout",
          "text": [
            "https://lin.ee/ilN5e75\n",
            "https://focustaiwan.tw?utm_source=cna.lang\n",
            "https://japan.focustaiwan.tw?utm_source=cna.lang\n",
            "https://focustaiwan.tw/\n",
            "https://japan.focustaiwan.tw/\n",
            "https://indonesia.focustaiwan.tw/\n",
            "https://netzero.cna.com.tw/\n",
            "https://howlife.cna.com.tw/\n",
            "https://www.phototaiwan.com/\n",
            "https://service.cna.com.tw/\n",
            "https://focustaiwan.tw/\n",
            "https://japan.focustaiwan.tw\n",
            "https://netzero.cna.com.tw/news/202504160389/\n",
            "https://academy.cna.com.tw/\n",
            "https://howlife.cna.com.tw\n",
            "https://apps.apple.com/tw/app/%E4%B8%AD%E5%A4%AE%E7%A4%BE%E4%B8%80%E6%89%8B%E6%96%B0%E8%81%9E/id444433899\n",
            "https://play.google.com/store/apps/details?id=m.cna.com.tw.App\n",
            "https://www.facebook.com/cnanewstaiwan/\n",
            "https://focustaiwan.tw/\n",
            "https://japan.focustaiwan.tw/\n",
            "https://indonesia.focustaiwan.tw/\n",
            "https://itunes.apple.com/tw/app/%E4%B8%AD%E5%A4%AE%E7%A4%BE%E4%B8%80%E6%89%8B%E6%96%B0%E8%81%9E/id444433899\n",
            "https://play.google.com/store/apps/details?id=m.cna.com.tw.App\n",
            "https://netzero.cna.com.tw/\n",
            "https://academy.cna.com.tw/\n",
            "https://academy.cna.com.tw/Topic/Index/0/1\n",
            "https://service.cna.com.tw/\n",
            "https://www.phototaiwan.com/\n",
            "https://cfcmweb.cy.gov.tw/cfcm_w/\n",
            "https://www.facebook.com/cnanewstaiwan/\n"
          ]
        }
      ]
    }
  ]
}